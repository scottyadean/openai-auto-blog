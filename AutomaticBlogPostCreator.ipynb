{
 "cells": [
  {
   "cell_type": "code",
   "execution_count": 66,
   "id": "222010ba-b473-4eba-8efa-f3db9acc8b60",
   "metadata": {},
   "outputs": [],
   "source": [
    "# pip install GitPython\n",
    "# pip3 install BeautifulSoup4"
   ]
  },
  {
   "cell_type": "code",
   "execution_count": 129,
   "id": "c0703967-05a4-4d48-9abb-4d88d830a07f",
   "metadata": {},
   "outputs": [],
   "source": [
    "import os \n",
    "import openai\n",
    "import pprint\n",
    "import shutil\n",
    "import requests\n",
    "from git import Repo\n",
    "from pathlib import Path\n",
    "from bs4 import BeautifulSoup as BSoup\n",
    "pp = pprint.PrettyPrinter(depth=100)"
   ]
  },
  {
   "cell_type": "code",
   "execution_count": 140,
   "id": "bba1a431-dc68-4c55-ab25-67b3ac63c5c7",
   "metadata": {},
   "outputs": [],
   "source": [
    "# git hub pages path\n",
    "# https://scottyadean.github.io/openai-auto-blog/"
   ]
  },
  {
   "cell_type": "code",
   "execution_count": 113,
   "id": "aef80bb4-6645-40b5-b849-05eb39595a53",
   "metadata": {},
   "outputs": [],
   "source": [
    "OPEN_AI_KEY = os.environ[\"OPENAI_KEY\"]\n",
    "openai.api_key = OPEN_AI_KEY"
   ]
  },
  {
   "cell_type": "code",
   "execution_count": 68,
   "id": "a818e917-3fca-40ba-8593-be01d207a6b7",
   "metadata": {},
   "outputs": [
    {
     "data": {
      "text/plain": [
       "'C:\\\\Users\\\\scott\\\\apps\\\\openai\\\\notebooks'"
      ]
     },
     "execution_count": 68,
     "metadata": {},
     "output_type": "execute_result"
    }
   ],
   "source": [
    "pwd"
   ]
  },
  {
   "cell_type": "code",
   "execution_count": 69,
   "id": "49098c45-da14-4627-974e-9054c5298355",
   "metadata": {},
   "outputs": [
    {
     "name": "stdout",
     "output_type": "stream",
     "text": [
      "C:\\Users\\scott\\apps\\openai\\notebooks\\openai-auto-blog\n",
      "C:\\Users\\scott\\apps\\openai\\notebooks\\openai-auto-blog\\content\n"
     ]
    }
   ],
   "source": [
    "PATH_TO_REPO = Path('C:\\\\Users\\\\scott\\\\apps\\\\openai\\\\notebooks\\\\openai-auto-blog\\\\.git')\n",
    "print(PATH_TO_REPO.parent)\n",
    "PATH_TO_INDEX = PATH_TO_REPO.parent\n",
    "PATH_TO_ASSETS = PATH_TO_INDEX/\"assets\"\n",
    "PATH_TO_CONTENT = PATH_TO_INDEX/\"content\"\n",
    "\n",
    "print(PATH_TO_CONTENT)"
   ]
  },
  {
   "cell_type": "code",
   "execution_count": 141,
   "id": "d6acf6d3-cd4d-4dda-90d8-6a2b2b87b542",
   "metadata": {},
   "outputs": [],
   "source": [
    "def push_blog_post(commit_msg=\"Update Blog Post\"):\n",
    "    \"\"\" Push the content of the blog to git hub pages \"\"\"\n",
    "    repo = Repo(PATH_TO_REPO)\n",
    "    repo.git.add(all=True)\n",
    "    repo.index.commit(commit_msg)\n",
    "    origin = repo.remote(name='origin')\n",
    "    origin.push()\n",
    "    \n",
    "def create_blog_post(title, content, cover_img):\n",
    "    \"\"\" This takes the content from openai and injects it into a html page \"\"\"\n",
    "    img = Path(cover_img)\n",
    "    files = len(list(PATH_TO_CONTENT.glob(\"*.html\")))\n",
    "    name = f'{files+1}.html'\n",
    "    path = PATH_TO_CONTENT/name\n",
    "    shutil.copy( img, PATH_TO_ASSETS )\n",
    "\n",
    "    if not os.path.exists(path):\n",
    "        with open(path, 'w') as _f:\n",
    "            _f.write(f\"<!doctype html><html></head><title>{title}</title></head><body><section>\")\n",
    "            _f.write(f\"<img src='../assets/{img.name}' alt='{title}' />\")\n",
    "            _f.write(f\"<h1>{title}</h1>\")\n",
    "            _f.write(f\"<div class='content'>\")\n",
    "            _f.write(content.replace(\"\\n\", \"<br />\\n\"))\n",
    "            _f.write(f\"</div>\")\n",
    "            _f.write(f\"</section></body></html>\")   \n",
    "    else:    \n",
    "        raise FileExistsError('File Already Exists')\n",
    "    return name\n",
    "\n",
    "def add_blog_link(path, href, name):\n",
    "    \"\"\" This adds a link to the blog post to the index.html page.  \"\"\"\n",
    "    with open(path, 'r') as html:\n",
    "        soup = BSoup(html.read())\n",
    "        atag = soup.new_tag(\"a\", href=href )\n",
    "        atag.string = name\n",
    "        soup.html.body.section.div.append(atag)\n",
    "\n",
    "    with open(path, 'w') as _f:\n",
    "        _f.write(str( soup.prettify( formatter='html') ) )\n",
    "\n",
    "def create_prompt(title, cats = \"tech, python, coding, AI\"):\n",
    "    \"\"\" this creates a prompt for openai to better create the text compleation request \"\"\"\n",
    "    prompt = f\"\"\"\n",
    "        Biography:\n",
    "        My name is Scott Dean and I am a Software Engineer. \n",
    "        Blog\n",
    "        Title: {title}\n",
    "        tags: {cats}\n",
    "        Full Text:\"\"\"\n",
    "    return prompt\n",
    "\n",
    "def ask_open_ai(prompt):\n",
    "    \"\"\" send the prompt to the openai \"\"\"\n",
    "    res = openai.Completion.create(model=\"text-davinci-003\",\n",
    "                                   prompt = prompt,\n",
    "                                   temperature = 0.7,\n",
    "                                   max_tokens = 1000)\n",
    "    return res\n",
    "\n",
    "def get_img(title):\n",
    "    \"\"\" Generate an image for the blog post based on the title.  \"\"\"\n",
    "    prompt = f\"{title}\"\n",
    "    img = openai.Image.create( prompt=prompt, n=1, size='512x512' )\n",
    "    return img\n",
    "\n",
    "def save_img(url, file_output_name):\n",
    "    \"\"\" save the image locally that openai created \"\"\"\n",
    "    img = requests.get(url, stream=True)\n",
    "    if img.status_code == 200:\n",
    "        with open(file_output_name, 'wb') as _f:\n",
    "            shutil.copyfileobj(img.raw, _f)\n",
    "    else:\n",
    "        print(\"unable to download file\")\n",
    "    return img.status_code\n",
    "\n",
    "\n",
    "def publish_blog_post(title, img_type=\"\", cats=\"Blog, Personal, Web Publishing\"):\n",
    "    \"\"\" create the blog post and push it to git hub pages.  \"\"\"\n",
    "    blog = ask_open_ai(create_prompt(title, cats))\n",
    "    content = blog['choices'][0]['text']\n",
    "    img = get_img(f\"{img_type}{title}\")\n",
    "    url = f'{title.replace(\" \", \"-\").lower()}.png'\n",
    "    save_img(img['data'][0]['url'], url)\n",
    "    file_name = create_blog_post( title, content, url  )\n",
    "    add_blog_link(PATH_TO_INDEX/\"index.html\", f\"./content/{file_name}\", title)\n",
    "    push_blog_post(f\"Added: {title}\")\n",
    "    print(\"Complete \")\n",
    "\n"
   ]
  },
  {
   "cell_type": "code",
   "execution_count": 122,
   "id": "47795eb5-c913-4b1a-8d46-f8398e0d0e24",
   "metadata": {},
   "outputs": [],
   "source": [
    "## create new html page with blog conent\n",
    "# create_blog_post( \"new blog\", \"This is the body content\\n and some subtext\", 'logo.png'  )\n",
    "## example push update to git repo\n",
    "# push_blog_post(\"create content test commit 5\")\n",
    "## BSoup add new link to indx \n",
    "# add_blog_link(PATH_TO_INDEX/\"index.html\", \"./content/1.html\", \"sample link\")"
   ]
  },
  {
   "cell_type": "code",
   "execution_count": 123,
   "id": "89c8716e-00f2-4d85-93e6-406d1e2d9d76",
   "metadata": {},
   "outputs": [],
   "source": [
    "## Ask open ai to create blog content"
   ]
  },
  {
   "cell_type": "code",
   "execution_count": 125,
   "id": "3e7b9af5-1266-431f-8bdc-750f3ef1875b",
   "metadata": {},
   "outputs": [],
   "source": [
    "## testing prompt output\n",
    "blog = ask_open_ai(create_prompt(\"The future of python and AI\"))"
   ]
  },
  {
   "cell_type": "code",
   "execution_count": 127,
   "id": "27cd01db-ab8f-41f7-a5c3-0969b5d520fa",
   "metadata": {},
   "outputs": [],
   "source": [
    "content = blog['choices'][0]['text']"
   ]
  },
  {
   "cell_type": "code",
   "execution_count": 128,
   "id": "107cc86f-7fdd-4fa6-b8f4-6ebc13b794ea",
   "metadata": {},
   "outputs": [
    {
     "data": {
      "text/plain": [
       "'\\n\\nAs technology advances, so does the potential for Artificial Intelligence (AI). Python has long been a leader in the world of programming languages, and its potential to be used for AI is no different. Python is a popular choice for developers looking to create powerful AI-driven applications.\\n\\nAI is becoming increasingly advanced and can now be used for a range of applications. From natural language processing to predictive analytics, AI can be used to solve complex problems and generate valuable insights from data. Python is an ideal language for AI development due to its versatility and ease of use.\\n\\nPython libraries such as Scikit-learn, TensorFlow, and Keras make it easy to build powerful AI applications. These libraries allow developers to create powerful neural networks that can process data and generate insights.\\n\\nPython has become an increasingly popular language for AI development due to its versatility and wide range of applications. With its ease of use and powerful libraries, Python is becoming a go-to language for AI developers. As technology advances, the potential for AI is growing, and Python is leading the way.'"
      ]
     },
     "execution_count": 128,
     "metadata": {},
     "output_type": "execute_result"
    }
   ],
   "source": [
    "content"
   ]
  },
  {
   "cell_type": "code",
   "execution_count": 134,
   "id": "c80427f6-b02f-41b3-b9b2-1b99d98a3b92",
   "metadata": {},
   "outputs": [
    {
     "data": {
      "text/plain": [
       "200"
      ]
     },
     "execution_count": 134,
     "metadata": {},
     "output_type": "execute_result"
    }
   ],
   "source": [
    "# Testing saving image. \n",
    "title = \"The future of python and AI\"\n",
    "img = get_img(f\"An Oil Painting Of {title}\")\n",
    "url = f'{title.replace(\" \", \"-\").lower()}.png'\n",
    "save_img(img['data'][0]['url'], url)"
   ]
  },
  {
   "cell_type": "code",
   "execution_count": 135,
   "id": "43128161-3ec5-4942-9777-a85d93ae176e",
   "metadata": {},
   "outputs": [
    {
     "data": {
      "text/plain": [
       "WindowsPath('C:/Users/scott/apps/openai/notebooks/openai-auto-blog/content/2.html')"
      ]
     },
     "execution_count": 135,
     "metadata": {},
     "output_type": "execute_result"
    }
   ],
   "source": [
    "create_blog_post( title, content, url  )"
   ]
  },
  {
   "cell_type": "code",
   "execution_count": 136,
   "id": "1b9c781f-2be0-41f4-ba7f-4032b6f526c9",
   "metadata": {},
   "outputs": [],
   "source": [
    "# testing adding link to index. \n",
    "add_blog_link(PATH_TO_INDEX/\"index.html\", \"./content/2.html\", title)\n",
    "push_blog_post(f\"Added: {title}\")"
   ]
  },
  {
   "cell_type": "code",
   "execution_count": 142,
   "id": "724542ad-ff08-49e6-adf1-11eeb51dc98c",
   "metadata": {},
   "outputs": [
    {
     "name": "stdout",
     "output_type": "stream",
     "text": [
      "Complete \n"
     ]
    }
   ],
   "source": [
    "\n",
    "## invoke the flow \n",
    "publish_blog_post( \"3 of the best pizza restaurants to eat in New Youk City before you die\", \"Professional food Photography, 15mm studio lighting\" \"Food, Pizza, Travel, New York\" )\n",
    "\n",
    "\n"
   ]
  },
  {
   "cell_type": "code",
   "execution_count": null,
   "id": "b8455a03-be96-4bef-8562-cf17f6b19b53",
   "metadata": {},
   "outputs": [],
   "source": []
  }
 ],
 "metadata": {
  "kernelspec": {
   "display_name": "Python 3 (ipykernel)",
   "language": "python",
   "name": "python3"
  },
  "language_info": {
   "codemirror_mode": {
    "name": "ipython",
    "version": 3
   },
   "file_extension": ".py",
   "mimetype": "text/x-python",
   "name": "python",
   "nbconvert_exporter": "python",
   "pygments_lexer": "ipython3",
   "version": "3.11.2"
  }
 },
 "nbformat": 4,
 "nbformat_minor": 5
}
